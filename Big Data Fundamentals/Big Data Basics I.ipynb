{
 "cells": [
  {
   "cell_type": "markdown",
   "metadata": {},
   "source": [
    "# Data Frames Basics"
   ]
  },
  {
   "cell_type": "code",
   "execution_count": 1,
   "metadata": {},
   "outputs": [],
   "source": [
    "from pyspark.sql import SparkSession"
   ]
  },
  {
   "cell_type": "code",
   "execution_count": 2,
   "metadata": {},
   "outputs": [],
   "source": [
    "spark = SparkSession.builder.appName('Basics').getOrCreate()"
   ]
  },
  {
   "cell_type": "markdown",
   "metadata": {},
   "source": [
    "Read csv file:"
   ]
  },
  {
   "cell_type": "code",
   "execution_count": 19,
   "metadata": {},
   "outputs": [],
   "source": [
    "df = spark.read.csv('data/aiddata-countries.csv', header = True)"
   ]
  },
  {
   "cell_type": "code",
   "execution_count": 20,
   "metadata": {},
   "outputs": [
    {
     "name": "stdout",
     "output_type": "stream",
     "text": [
      "+---+----------+------------+----+------------+---------+------------------------------+----------------------+----------------------+\n",
      "|_c0|aiddata_id|aiddata_2_id|year|       donor|recipient|commitment_amount_usd_constant|coalesced_purpose_code|coalesced_purpose_name|\n",
      "+---+----------+------------+----+------------+---------+------------------------------+----------------------+----------------------+\n",
      "|  1|   2414478|          NA|1977|Saudi Arabia|    India|                     348718518|                 23030|  Power generation/...|\n",
      "|  2|   2414509|          NA|1977|Saudi Arabia|   Brazil|                     191647004|                 23040|  Electrical transm...|\n",
      "|  3|   2414635|          NA|1983|Saudi Arabia|    India|                      79371799|                 21030|        Rail transport|\n",
      "+---+----------+------------+----+------------+---------+------------------------------+----------------------+----------------------+\n",
      "only showing top 3 rows\n",
      "\n"
     ]
    }
   ],
   "source": [
    "df.show(3)"
   ]
  },
  {
   "cell_type": "code",
   "execution_count": 21,
   "metadata": {},
   "outputs": [
    {
     "data": {
      "text/plain": [
       "['_c0',\n",
       " 'aiddata_id',\n",
       " 'aiddata_2_id',\n",
       " 'year',\n",
       " 'donor',\n",
       " 'recipient',\n",
       " 'commitment_amount_usd_constant',\n",
       " 'coalesced_purpose_code',\n",
       " 'coalesced_purpose_name']"
      ]
     },
     "execution_count": 21,
     "metadata": {},
     "output_type": "execute_result"
    }
   ],
   "source": [
    "df.columns"
   ]
  },
  {
   "cell_type": "code",
   "execution_count": 22,
   "metadata": {},
   "outputs": [
    {
     "data": {
      "text/plain": [
       "StructType(List(StructField(_c0,StringType,true),StructField(aiddata_id,StringType,true),StructField(aiddata_2_id,StringType,true),StructField(year,StringType,true),StructField(donor,StringType,true),StructField(recipient,StringType,true),StructField(commitment_amount_usd_constant,StringType,true),StructField(coalesced_purpose_code,StringType,true),StructField(coalesced_purpose_name,StringType,true)))"
      ]
     },
     "execution_count": 22,
     "metadata": {},
     "output_type": "execute_result"
    }
   ],
   "source": [
    "df.schema"
   ]
  },
  {
   "cell_type": "code",
   "execution_count": 23,
   "metadata": {},
   "outputs": [
    {
     "name": "stdout",
     "output_type": "stream",
     "text": [
      "root\n",
      " |-- _c0: string (nullable = true)\n",
      " |-- aiddata_id: string (nullable = true)\n",
      " |-- aiddata_2_id: string (nullable = true)\n",
      " |-- year: string (nullable = true)\n",
      " |-- donor: string (nullable = true)\n",
      " |-- recipient: string (nullable = true)\n",
      " |-- commitment_amount_usd_constant: string (nullable = true)\n",
      " |-- coalesced_purpose_code: string (nullable = true)\n",
      " |-- coalesced_purpose_name: string (nullable = true)\n",
      "\n"
     ]
    }
   ],
   "source": [
    "df.printSchema()"
   ]
  },
  {
   "cell_type": "markdown",
   "metadata": {},
   "source": [
    "The Describe() returns a dataframe with the statistical summary of numeric columns"
   ]
  },
  {
   "cell_type": "code",
   "execution_count": 24,
   "metadata": {},
   "outputs": [
    {
     "name": "stdout",
     "output_type": "stream",
     "text": [
      "+-------+------------------+--------------------+--------------------+------------------+-------------+-------------+------------------------------+----------------------+----------------------+\n",
      "|summary|               _c0|          aiddata_id|        aiddata_2_id|              year|        donor|    recipient|commitment_amount_usd_constant|coalesced_purpose_code|coalesced_purpose_name|\n",
      "+-------+------------------+--------------------+--------------------+------------------+-------------+-------------+------------------------------+----------------------+----------------------+\n",
      "|  count|             98540|               98540|               98540|             98540|        98540|        98540|                         98540|                 98540|                 98540|\n",
      "|   mean|           49270.5|5.689305473480566...| 2.414586565459502E7|2004.0098843109397|         null|         null|            3722388.3759488533|    33356.897432514714|                  null|\n",
      "| stddev|28446.192100173972|2.196429042608045E11|1.2392766818606617E7| 7.574269132701682|         null|         null|            4.99110095239651E7|     27980.42550480813|                  null|\n",
      "|    min|                 1|           104596850|            10006235|              1973|    Australia|    Australia|                        -55619|                 11000|  ADMINISTRATIVE COSTS|\n",
      "|    max|              9999|            98839876|                  NA|              2013|United States|United States|                         99984|                 99820|  Women's equality ...|\n",
      "+-------+------------------+--------------------+--------------------+------------------+-------------+-------------+------------------------------+----------------------+----------------------+\n",
      "\n"
     ]
    }
   ],
   "source": [
    "df.describe().show()"
   ]
  },
  {
   "cell_type": "code",
   "execution_count": 25,
   "metadata": {},
   "outputs": [
    {
     "name": "stdout",
     "output_type": "stream",
     "text": [
      "root\n",
      " |-- _c0: string (nullable = true)\n",
      " |-- aiddata_id: string (nullable = true)\n",
      " |-- aiddata_2_id: string (nullable = true)\n",
      " |-- year: string (nullable = true)\n",
      " |-- donor: string (nullable = true)\n",
      " |-- recipient: string (nullable = true)\n",
      " |-- commitment_amount_usd_constant: string (nullable = true)\n",
      " |-- coalesced_purpose_code: string (nullable = true)\n",
      " |-- coalesced_purpose_name: string (nullable = true)\n",
      "\n"
     ]
    }
   ],
   "source": [
    "df.printSchema()"
   ]
  },
  {
   "cell_type": "markdown",
   "metadata": {},
   "source": [
    "# Defining Schema"
   ]
  },
  {
   "cell_type": "markdown",
   "metadata": {},
   "source": [
    "* We can also specify "
   ]
  },
  {
   "cell_type": "code",
   "execution_count": 26,
   "metadata": {},
   "outputs": [],
   "source": [
    "from pyspark.sql.types import StructField, StructType, StringType, IntegerType, FloatType"
   ]
  },
  {
   "cell_type": "markdown",
   "metadata": {},
   "source": [
    "format - StructType([StructField(name = 'Column name', dataType = StringType(), nullable = True), .... ])"
   ]
  },
  {
   "cell_type": "code",
   "execution_count": 27,
   "metadata": {},
   "outputs": [],
   "source": [
    "data_schema = StructType([StructField('_c0', StringType(), True),\n",
    "               StructField('aiddata_id', IntegerType(), True),\n",
    "               StructField('aiddata_2_id', StringType(), True),\n",
    "               StructField('year', IntegerType(), True),\n",
    "               StructField('donor', StringType(), True),\n",
    "               StructField('recipient', StringType(), True),\n",
    "               StructField('commitment_amount_usd_constant', FloatType(), True),\n",
    "               StructField('coalesced_purpose_code', StringType(), True),\n",
    "               StructField('coalesced_purpose_name', StringType(), True)])"
   ]
  },
  {
   "cell_type": "markdown",
   "metadata": {},
   "source": [
    "Sepecify schema while reading the file."
   ]
  },
  {
   "cell_type": "code",
   "execution_count": 29,
   "metadata": {},
   "outputs": [],
   "source": [
    "df = spark.read.csv('data/aiddata-countries.csv', header = True, schema = data_schema)"
   ]
  },
  {
   "cell_type": "code",
   "execution_count": 30,
   "metadata": {},
   "outputs": [
    {
     "name": "stdout",
     "output_type": "stream",
     "text": [
      "root\n",
      " |-- _c0: string (nullable = true)\n",
      " |-- aiddata_id: integer (nullable = true)\n",
      " |-- aiddata_2_id: string (nullable = true)\n",
      " |-- year: integer (nullable = true)\n",
      " |-- donor: string (nullable = true)\n",
      " |-- recipient: string (nullable = true)\n",
      " |-- commitment_amount_usd_constant: float (nullable = true)\n",
      " |-- coalesced_purpose_code: string (nullable = true)\n",
      " |-- coalesced_purpose_name: string (nullable = true)\n",
      "\n"
     ]
    }
   ],
   "source": [
    "df.printSchema()"
   ]
  },
  {
   "cell_type": "markdown",
   "metadata": {},
   "source": [
    "* Spark can also infer schema for us when reading the file"
   ]
  },
  {
   "cell_type": "code",
   "execution_count": 31,
   "metadata": {},
   "outputs": [],
   "source": [
    "df = spark.read.csv('data/aiddata-countries.csv', header = True, inferSchema = True)"
   ]
  },
  {
   "cell_type": "code",
   "execution_count": 32,
   "metadata": {},
   "outputs": [
    {
     "name": "stdout",
     "output_type": "stream",
     "text": [
      "root\n",
      " |-- _c0: integer (nullable = true)\n",
      " |-- aiddata_id: double (nullable = true)\n",
      " |-- aiddata_2_id: string (nullable = true)\n",
      " |-- year: integer (nullable = true)\n",
      " |-- donor: string (nullable = true)\n",
      " |-- recipient: string (nullable = true)\n",
      " |-- commitment_amount_usd_constant: double (nullable = true)\n",
      " |-- coalesced_purpose_code: integer (nullable = true)\n",
      " |-- coalesced_purpose_name: string (nullable = true)\n",
      "\n"
     ]
    }
   ],
   "source": [
    "df.printSchema()"
   ]
  },
  {
   "cell_type": "markdown",
   "metadata": {},
   "source": [
    "# Getting Data from Data Frame"
   ]
  },
  {
   "cell_type": "markdown",
   "metadata": {},
   "source": [
    "We can use indexing to get column object"
   ]
  },
  {
   "cell_type": "code",
   "execution_count": 33,
   "metadata": {},
   "outputs": [
    {
     "data": {
      "text/plain": [
       "Column<b'year'>"
      ]
     },
     "execution_count": 33,
     "metadata": {},
     "output_type": "execute_result"
    }
   ],
   "source": [
    "df['year']"
   ]
  },
  {
   "cell_type": "markdown",
   "metadata": {},
   "source": [
    "To check type of object:"
   ]
  },
  {
   "cell_type": "code",
   "execution_count": 34,
   "metadata": {},
   "outputs": [
    {
     "data": {
      "text/plain": [
       "pyspark.sql.column.Column"
      ]
     },
     "execution_count": 34,
     "metadata": {},
     "output_type": "execute_result"
    }
   ],
   "source": [
    "type(df['year'])"
   ]
  },
  {
   "cell_type": "markdown",
   "metadata": {},
   "source": [
    "To get dataframe from the column use \"select\""
   ]
  },
  {
   "cell_type": "code",
   "execution_count": 35,
   "metadata": {},
   "outputs": [
    {
     "data": {
      "text/plain": [
       "DataFrame[year: int]"
      ]
     },
     "execution_count": 35,
     "metadata": {},
     "output_type": "execute_result"
    }
   ],
   "source": [
    "df.select(\"year\")"
   ]
  },
  {
   "cell_type": "markdown",
   "metadata": {},
   "source": [
    "To see the data, we need to use show()"
   ]
  },
  {
   "cell_type": "code",
   "execution_count": 36,
   "metadata": {},
   "outputs": [
    {
     "name": "stdout",
     "output_type": "stream",
     "text": [
      "+----+\n",
      "|year|\n",
      "+----+\n",
      "|1977|\n",
      "|1977|\n",
      "|1983|\n",
      "|1984|\n",
      "|1984|\n",
      "+----+\n",
      "only showing top 5 rows\n",
      "\n"
     ]
    }
   ],
   "source": [
    "df.select('year').show(5)"
   ]
  },
  {
   "cell_type": "markdown",
   "metadata": {},
   "source": [
    "The show() function return dataframe where as head() return row objects"
   ]
  },
  {
   "cell_type": "code",
   "execution_count": 37,
   "metadata": {},
   "outputs": [
    {
     "data": {
      "text/plain": [
       "[Row(_c0=1, aiddata_id=2414478.0, aiddata_2_id='NA', year=1977, donor='Saudi Arabia', recipient='India', commitment_amount_usd_constant=348718518.0, coalesced_purpose_code=23030, coalesced_purpose_name='Power generation/renewable sources'),\n",
       " Row(_c0=2, aiddata_id=2414509.0, aiddata_2_id='NA', year=1977, donor='Saudi Arabia', recipient='Brazil', commitment_amount_usd_constant=191647004.0, coalesced_purpose_code=23040, coalesced_purpose_name='Electrical transmission/ distribution')]"
      ]
     },
     "execution_count": 37,
     "metadata": {},
     "output_type": "execute_result"
    }
   ],
   "source": [
    "df.head(2)"
   ]
  },
  {
   "cell_type": "code",
   "execution_count": 38,
   "metadata": {},
   "outputs": [
    {
     "data": {
      "text/plain": [
       "pyspark.sql.types.Row"
      ]
     },
     "execution_count": 38,
     "metadata": {},
     "output_type": "execute_result"
    }
   ],
   "source": [
    "type(df.head(2)[0])"
   ]
  },
  {
   "cell_type": "markdown",
   "metadata": {},
   "source": [
    "* To select multiple columns"
   ]
  },
  {
   "cell_type": "code",
   "execution_count": 39,
   "metadata": {},
   "outputs": [
    {
     "name": "stdout",
     "output_type": "stream",
     "text": [
      "+----+------------+\n",
      "|year|       donor|\n",
      "+----+------------+\n",
      "|1977|Saudi Arabia|\n",
      "|1977|Saudi Arabia|\n",
      "|1983|Saudi Arabia|\n",
      "|1984|Saudi Arabia|\n",
      "|1984|Saudi Arabia|\n",
      "+----+------------+\n",
      "only showing top 5 rows\n",
      "\n"
     ]
    }
   ],
   "source": [
    "df.select(['year', 'donor']).show(5)"
   ]
  },
  {
   "cell_type": "markdown",
   "metadata": {},
   "source": [
    "* Add new Column - dataframe.withColumn('new column name', 'old column')\n",
    "* Not in place"
   ]
  },
  {
   "cell_type": "code",
   "execution_count": 40,
   "metadata": {},
   "outputs": [
    {
     "name": "stdout",
     "output_type": "stream",
     "text": [
      "+---+----------+------------+----+------------+---------+------------------------------+----------------------+----------------------+-----------+\n",
      "|_c0|aiddata_id|aiddata_2_id|year|       donor|recipient|commitment_amount_usd_constant|coalesced_purpose_code|coalesced_purpose_name|double_Year|\n",
      "+---+----------+------------+----+------------+---------+------------------------------+----------------------+----------------------+-----------+\n",
      "|  1| 2414478.0|          NA|1977|Saudi Arabia|    India|                  3.48718518E8|                 23030|  Power generation/...|       3954|\n",
      "|  2| 2414509.0|          NA|1977|Saudi Arabia|   Brazil|                  1.91647004E8|                 23040|  Electrical transm...|       3954|\n",
      "+---+----------+------------+----+------------+---------+------------------------------+----------------------+----------------------+-----------+\n",
      "only showing top 2 rows\n",
      "\n"
     ]
    }
   ],
   "source": [
    "df.withColumn('double_Year', df['year']*2).show(2)"
   ]
  },
  {
   "cell_type": "markdown",
   "metadata": {},
   "source": [
    "* Rename Column name:"
   ]
  },
  {
   "cell_type": "code",
   "execution_count": 41,
   "metadata": {},
   "outputs": [
    {
     "data": {
      "text/plain": [
       "DataFrame[_c0: int, aiddata_id: double, aiddata_2_id: string, years: int, donor: string, recipient: string, commitment_amount_usd_constant: double, coalesced_purpose_code: int, coalesced_purpose_name: string]"
      ]
     },
     "execution_count": 41,
     "metadata": {},
     "output_type": "execute_result"
    }
   ],
   "source": [
    "df.withColumnRenamed('year', 'years')"
   ]
  },
  {
   "cell_type": "code",
   "execution_count": 42,
   "metadata": {},
   "outputs": [
    {
     "data": {
      "text/plain": [
       "Row(_c0=1, aiddata_id=2414478.0, aiddata_2_id='NA', year=1977, donor='Saudi Arabia', recipient='India', commitment_amount_usd_constant=348718518.0, coalesced_purpose_code=23030, coalesced_purpose_name='Power generation/renewable sources')"
      ]
     },
     "execution_count": 42,
     "metadata": {},
     "output_type": "execute_result"
    }
   ],
   "source": [
    "df.head()"
   ]
  },
  {
   "cell_type": "markdown",
   "metadata": {},
   "source": [
    "# Sql"
   ]
  },
  {
   "cell_type": "markdown",
   "metadata": {},
   "source": [
    "To register dataframe as temperory view:"
   ]
  },
  {
   "cell_type": "code",
   "execution_count": 43,
   "metadata": {},
   "outputs": [],
   "source": [
    "df.createOrReplaceTempView('aid')"
   ]
  },
  {
   "cell_type": "code",
   "execution_count": 44,
   "metadata": {},
   "outputs": [],
   "source": [
    "result = spark.sql('select year from aid')   # Can use SQL to query dataframe"
   ]
  },
  {
   "cell_type": "code",
   "execution_count": 45,
   "metadata": {},
   "outputs": [
    {
     "name": "stdout",
     "output_type": "stream",
     "text": [
      "+----+\n",
      "|year|\n",
      "+----+\n",
      "|1977|\n",
      "|1977|\n",
      "|1983|\n",
      "+----+\n",
      "only showing top 3 rows\n",
      "\n"
     ]
    }
   ],
   "source": [
    "result.show(3)"
   ]
  }
 ],
 "metadata": {
  "kernelspec": {
   "display_name": "Python 3",
   "language": "python",
   "name": "python3"
  },
  "language_info": {
   "codemirror_mode": {
    "name": "ipython",
    "version": 3
   },
   "file_extension": ".py",
   "mimetype": "text/x-python",
   "name": "python",
   "nbconvert_exporter": "python",
   "pygments_lexer": "ipython3",
   "version": "3.8.4"
  }
 },
 "nbformat": 4,
 "nbformat_minor": 4
}
